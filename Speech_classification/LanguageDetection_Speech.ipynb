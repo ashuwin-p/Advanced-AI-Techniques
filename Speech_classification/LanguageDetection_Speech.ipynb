{
 "cells": [
  {
   "cell_type": "markdown",
   "metadata": {},
   "source": [
    "---\n",
    "\n",
    "## ***Language Detection in Speech using GMM***\n",
    "\n",
    "---"
   ]
  },
  {
   "cell_type": "markdown",
   "metadata": {},
   "source": [
    "##### **Aim**\n",
    "\n",
    "The aim of this project is to develop a basic language detection model that classifies spoken audio samples into English or Tamil. Using a small dataset of English and Tamil speech, the project will extract Mel-Frequency Cepstral Coefficients (MFCCs) as features and train Gaussian Mixture Models (GMMs) for each language. The trained models will then be used to predict the language of new audio samples by evaluating which model better fits the given speech characteristics.\n",
    "\n",
    "\n",
    "##### **Overview**\n",
    "\n",
    "This project involves developing a language detection system that can distinguish between English and Tamil speech. Using a dataset of audio samples in both languages, we extract Mel-Frequency Cepstral Coefficients (MFCCs) to capture the essential features of the speech signals. Gaussian Mixture Models (GMMs) are then trained separately for each language based on these features. The system predicts the language of a new audio sample by comparing how well the sample fits the trained models, providing a straightforward yet effective method for language classification.\n",
    "\n",
    "##### **Steps**\n",
    "\n",
    "1. **Data Collection**:\n",
    "    - Gather and organize a dataset of English and Tamil speech samples.\n",
    "    - Structure the dataset in directories named `english` and `tamil`, each containing `.wav` audio files.\n",
    "\n",
    "2. **Feature Extraction**:\n",
    "    - Implement a function to load audio files and extract Mel-Frequency Cepstral Coefficients (MFCCs) as features using the `librosa` library.\n",
    "    - Compute the mean MFCC values for each audio file.\n",
    "\n",
    "3. **Model Training**:\n",
    "    - Use the extracted MFCC features to train Gaussian Mixture Models (GMMs) for each language.\n",
    "    - Implement a function to train the GMMs with a specified number of components and regularization parameter.\n",
    "\n",
    "4. **Prediction**:\n",
    "    - Implement a function to predict the language of a given audio sample by comparing the scores from the English and Tamil GMMs.\n",
    "    - Choose the language with the higher likelihood score.\n",
    "\n",
    "5. **Evaluation**:\n",
    "    - Organize a labeled test dataset similar to the training dataset.\n",
    "    - Predict the language for each test sample and compute the accuracy by comparing predictions with true labels.\n",
    "\n",
    "6. **Implementation and Testing**:\n",
    "    - Write the complete code to perform the steps above, including data loading, feature extraction, model training, prediction, and evaluation.\n",
    "    - Test the model with various audio samples to ensure it performs well.\n",
    "\n",
    "    ---\n",
    "    "
   ]
  },
  {
   "cell_type": "code",
   "execution_count": 215,
   "metadata": {},
   "outputs": [],
   "source": [
    "import os\n",
    "import librosa\n",
    "import numpy as np\n",
    "import matplotlib.pyplot as plt\n",
    "import seaborn as sns\n",
    "from sklearn.mixture import GaussianMixture\n",
    "from sklearn.metrics import accuracy_score, confusion_matrix"
   ]
  },
  {
   "cell_type": "code",
   "execution_count": 216,
   "metadata": {},
   "outputs": [],
   "source": [
    "class LanguageDetector:\n",
    "    def __init__(self, english_train_directory, tamil_train_directory, english_test_directory, tamil_test_directory):\n",
    "        self.english_train_directory = english_train_directory\n",
    "        self.tamil_train_directory = tamil_train_directory\n",
    "        self.english_test_directory = english_test_directory\n",
    "        self.tamil_test_directory = tamil_test_directory\n",
    "        self.english_gmm_model = None\n",
    "        self.tamil_gmm_model = None\n",
    "\n",
    "    @staticmethod\n",
    "    def extract_mfcc_features(audio_file_path):\n",
    "        audio_signal, sample_rate = librosa.load(audio_file_path, sr=None)\n",
    "        mfcc_features = librosa.feature.mfcc(y=audio_signal, sr=sample_rate, n_mfcc=13)\n",
    "        return np.mean(mfcc_features.T, axis=0)\n",
    "\n",
    "    def load_audio_features(self, data_directory, label):\n",
    "        feature_list = []\n",
    "        label_list = []\n",
    "        for dir_path, _, file_names in os.walk(data_directory):\n",
    "            for file_name in file_names:\n",
    "                if file_name.endswith('.wav'):\n",
    "                    audio_file_path = os.path.join(dir_path, file_name)\n",
    "                    mfcc_features = self.extract_mfcc_features(audio_file_path)\n",
    "                    feature_list.append(mfcc_features)\n",
    "                    label_list.append(label)\n",
    "        return np.array(feature_list), np.array(label_list)\n",
    "\n",
    "    def train_gmm_model(self, feature_array, num_components=4, reg_covar_value=1e-2):\n",
    "        gmm_model = GaussianMixture(n_components=num_components, max_iter=100, covariance_type='diag', n_init=3, reg_covar=reg_covar_value)\n",
    "        gmm_model.fit(feature_array)\n",
    "        return gmm_model\n",
    "\n",
    "    def prepare_and_train_models(self):\n",
    "        # Load training data\n",
    "        english_train_features, _ = self.load_audio_features(self.english_train_directory, 'english')\n",
    "        tamil_train_features, _ = self.load_audio_features(self.tamil_train_directory, 'tamil')\n",
    "\n",
    "        # Train separate models for English and Tamil\n",
    "        self.english_gmm_model = self.train_gmm_model(english_train_features)\n",
    "        self.tamil_gmm_model = self.train_gmm_model(tamil_train_features)\n",
    "\n",
    "    def predict_language(self, features):\n",
    "        english_score = self.english_gmm_model.score([features])\n",
    "        tamil_score = self.tamil_gmm_model.score([features])\n",
    "        return 'english' if english_score > tamil_score else 'tamil'\n",
    "\n",
    "    def evaluate_model(self):\n",
    "        # Load testing data\n",
    "        english_test_features, english_test_labels = self.load_audio_features(self.english_test_directory, 'english')\n",
    "        tamil_test_features, tamil_test_labels = self.load_audio_features(self.tamil_test_directory, 'tamil')\n",
    "\n",
    "        X_test = np.vstack((english_test_features, tamil_test_features))\n",
    "        y_test = np.hstack((english_test_labels, tamil_test_labels))\n",
    "        \n",
    "        y_pred = [self.predict_language(features) for features in X_test]\n",
    "        accuracy = accuracy_score(y_test, y_pred)\n",
    "        conf_matrix = confusion_matrix(y_test, y_pred)\n",
    "        print(f'Accuracy: {accuracy:.2f}')\n",
    "        print('Confusion Matrix:')\n",
    "        plt.title(\"Confusion Matrix\")\n",
    "        sns.heatmap(conf_matrix, annot=True, cmap = 'YlGnBu', xticklabels=['english', 'tamil'], yticklabels=['english', 'tamil'])\n",
    "        plt.xlabel('Predicted Labels')\n",
    "        plt.ylabel('True Labels')\n",
    "        plt.show()"
   ]
  },
  {
   "cell_type": "code",
   "execution_count": 217,
   "metadata": {},
   "outputs": [],
   "source": [
    "# Directories for language data\n",
    "english_train_directory = r'..\\Speech_classification\\Speech_train\\English'\n",
    "tamil_train_directory = r'..\\Speech_classification\\Speech_train\\Tamil'\n",
    "\n",
    "# Directories for language data\n",
    "english_test_directory = r'..\\Speech_classification\\Speech_test\\English'\n",
    "tamil_test_directory = r'..\\Speech_classification\\Speech_test\\Tamil'"
   ]
  },
  {
   "cell_type": "code",
   "execution_count": 218,
   "metadata": {},
   "outputs": [],
   "source": [
    "language_detector = LanguageDetector(english_train_directory, tamil_train_directory, english_test_directory, tamil_test_directory)\n",
    "language_detector.prepare_and_train_models()"
   ]
  },
  {
   "cell_type": "code",
   "execution_count": 219,
   "metadata": {},
   "outputs": [
    {
     "name": "stdout",
     "output_type": "stream",
     "text": [
      "Accuracy: 0.67\n",
      "Confusion Matrix:\n"
     ]
    },
    {
     "data": {
      "image/png": "[encoded data removed]",
      "text/plain": [
       "<Figure size 640x480 with 2 Axes>"
      ]
     },
     "metadata": {},
     "output_type": "display_data"
    }
   ],
   "source": [
    "# Evaluate the model\n",
    "language_detector.evaluate_model()"
   ]
  }
 ],
 "metadata": {
  "kernelspec": {
   "display_name": "Python 3",
   "language": "python",
   "name": "python3"
  },
  "language_info": {
   "codemirror_mode": {
    "name": "ipython",
    "version": 3
   },
   "file_extension": ".py",
   "mimetype": "text/x-python",
   "name": "python",
   "nbconvert_exporter": "python",
   "pygments_lexer": "ipython3",
   "version": "3.12.3"
  }
 },
 "nbformat": 4,
 "nbformat_minor": 2
}
